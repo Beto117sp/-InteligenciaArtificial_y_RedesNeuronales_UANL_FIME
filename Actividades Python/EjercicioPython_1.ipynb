name = input ("¿Cúal es tu nombre? ");

if name in ["Ana","Juan","Pedro"]:
  print("ERROR 404")
else:
    print("Hola,"+ name)
